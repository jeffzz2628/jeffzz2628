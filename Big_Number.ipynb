{
  "nbformat": 4,
  "nbformat_minor": 0,
  "metadata": {
    "colab": {
      "name": "Big_Number",
      "provenance": [],
      "authorship_tag": "ABX9TyPo/oxmnHljbsysDwjRkuWw",
      "include_colab_link": true
    },
    "kernelspec": {
      "name": "python3",
      "display_name": "Python 3"
    },
    "language_info": {
      "name": "python"
    }
  },
  "cells": [
    {
      "cell_type": "markdown",
      "metadata": {
        "id": "view-in-github",
        "colab_type": "text"
      },
      "source": [
        "<a href=\"https://colab.research.google.com/github/jeffzz2628/jeffzz2628/blob/main/Big_Number.ipynb\" target=\"_parent\"><img src=\"https://colab.research.google.com/assets/colab-badge.svg\" alt=\"Open In Colab\"/></a>"
      ]
    },
    {
      "cell_type": "code",
      "metadata": {
        "colab": {
          "base_uri": "https://localhost:8080/"
        },
        "id": "r07XauVEWpMA",
        "outputId": "373ae9f1-ebdc-41f0-e365-94a4099d7271"
      },
      "source": [
        "n, m, k = map(int, input().split())\n",
        "data = list(map(int, input().split()))\n",
        "data.sort()\n",
        "\n",
        "largest = data[n-1]\n",
        "second = data[n-2]\n",
        "\n",
        "result = 0\n",
        "\n",
        "while True :\n",
        "  for i in range(k):\n",
        "    if m == 0:\n",
        "       break\n",
        "    result += largest\n",
        "    m -= 1\n",
        "  if m == 0:\n",
        "    break  \n",
        "  result += second\n",
        "  m-= 1\n",
        "\n",
        "print(result)"
      ],
      "execution_count": null,
      "outputs": [
        {
          "output_type": "stream",
          "text": [
            "5 8 3\n",
            "2 4 5 4 6\n",
            "46\n"
          ],
          "name": "stdout"
        }
      ]
    }
  ]
}